{
 "cells": [
  {
   "cell_type": "code",
   "execution_count": 53,
   "id": "559ec41c",
   "metadata": {},
   "outputs": [],
   "source": [
    "#Libraries\n",
    "import pandas as pd\n",
    "import numpy as np\n",
    "from sklearn.model_selection import train_test_split\n",
    "from sklearn.ensemble import BaggingRegressor, RandomForestRegressor,AdaBoostRegressor, GradientBoostingRegressor\n",
    "from sklearn.tree import DecisionTreeRegressor\n",
    "from sklearn.preprocessing import MinMaxScaler, StandardScaler\n",
    "from sklearn.metrics import r2_score, mean_absolute_error, mean_squared_error\n",
    "from scipy.stats import ttest_ind, f_oneway"
   ]
  },
  {
   "cell_type": "code",
   "execution_count": 2,
   "id": "0f0f7b25",
   "metadata": {},
   "outputs": [
    {
     "data": {
      "text/html": [
       "<div>\n",
       "<style scoped>\n",
       "    .dataframe tbody tr th:only-of-type {\n",
       "        vertical-align: middle;\n",
       "    }\n",
       "\n",
       "    .dataframe tbody tr th {\n",
       "        vertical-align: top;\n",
       "    }\n",
       "\n",
       "    .dataframe thead th {\n",
       "        text-align: right;\n",
       "    }\n",
       "</style>\n",
       "<table border=\"1\" class=\"dataframe\">\n",
       "  <thead>\n",
       "    <tr style=\"text-align: right;\">\n",
       "      <th></th>\n",
       "      <th>Hours_Studied</th>\n",
       "      <th>Attendance</th>\n",
       "      <th>Parental_Involvement</th>\n",
       "      <th>Access_to_Resources</th>\n",
       "      <th>Extracurricular_Activities</th>\n",
       "      <th>Sleep_Hours</th>\n",
       "      <th>Previous_Scores</th>\n",
       "      <th>Motivation_Level</th>\n",
       "      <th>Internet_Access</th>\n",
       "      <th>Tutoring_Sessions</th>\n",
       "      <th>Family_Income</th>\n",
       "      <th>Teacher_Quality</th>\n",
       "      <th>School_Type</th>\n",
       "      <th>Peer_Influence</th>\n",
       "      <th>Physical_Activity</th>\n",
       "      <th>Learning_Disabilities</th>\n",
       "      <th>Parental_Education_Level</th>\n",
       "      <th>Distance_from_Home</th>\n",
       "      <th>Gender</th>\n",
       "      <th>Exam_Score</th>\n",
       "    </tr>\n",
       "  </thead>\n",
       "  <tbody>\n",
       "    <tr>\n",
       "      <th>0</th>\n",
       "      <td>23</td>\n",
       "      <td>84</td>\n",
       "      <td>Low</td>\n",
       "      <td>High</td>\n",
       "      <td>No</td>\n",
       "      <td>7</td>\n",
       "      <td>73</td>\n",
       "      <td>Low</td>\n",
       "      <td>Yes</td>\n",
       "      <td>0</td>\n",
       "      <td>Low</td>\n",
       "      <td>Medium</td>\n",
       "      <td>Public</td>\n",
       "      <td>Positive</td>\n",
       "      <td>3</td>\n",
       "      <td>No</td>\n",
       "      <td>High School</td>\n",
       "      <td>Near</td>\n",
       "      <td>Male</td>\n",
       "      <td>67</td>\n",
       "    </tr>\n",
       "    <tr>\n",
       "      <th>1</th>\n",
       "      <td>19</td>\n",
       "      <td>64</td>\n",
       "      <td>Low</td>\n",
       "      <td>Medium</td>\n",
       "      <td>No</td>\n",
       "      <td>8</td>\n",
       "      <td>59</td>\n",
       "      <td>Low</td>\n",
       "      <td>Yes</td>\n",
       "      <td>2</td>\n",
       "      <td>Medium</td>\n",
       "      <td>Medium</td>\n",
       "      <td>Public</td>\n",
       "      <td>Negative</td>\n",
       "      <td>4</td>\n",
       "      <td>No</td>\n",
       "      <td>College</td>\n",
       "      <td>Moderate</td>\n",
       "      <td>Female</td>\n",
       "      <td>61</td>\n",
       "    </tr>\n",
       "    <tr>\n",
       "      <th>2</th>\n",
       "      <td>24</td>\n",
       "      <td>98</td>\n",
       "      <td>Medium</td>\n",
       "      <td>Medium</td>\n",
       "      <td>Yes</td>\n",
       "      <td>7</td>\n",
       "      <td>91</td>\n",
       "      <td>Medium</td>\n",
       "      <td>Yes</td>\n",
       "      <td>2</td>\n",
       "      <td>Medium</td>\n",
       "      <td>Medium</td>\n",
       "      <td>Public</td>\n",
       "      <td>Neutral</td>\n",
       "      <td>4</td>\n",
       "      <td>No</td>\n",
       "      <td>Postgraduate</td>\n",
       "      <td>Near</td>\n",
       "      <td>Male</td>\n",
       "      <td>74</td>\n",
       "    </tr>\n",
       "    <tr>\n",
       "      <th>3</th>\n",
       "      <td>29</td>\n",
       "      <td>89</td>\n",
       "      <td>Low</td>\n",
       "      <td>Medium</td>\n",
       "      <td>Yes</td>\n",
       "      <td>8</td>\n",
       "      <td>98</td>\n",
       "      <td>Medium</td>\n",
       "      <td>Yes</td>\n",
       "      <td>1</td>\n",
       "      <td>Medium</td>\n",
       "      <td>Medium</td>\n",
       "      <td>Public</td>\n",
       "      <td>Negative</td>\n",
       "      <td>4</td>\n",
       "      <td>No</td>\n",
       "      <td>High School</td>\n",
       "      <td>Moderate</td>\n",
       "      <td>Male</td>\n",
       "      <td>71</td>\n",
       "    </tr>\n",
       "    <tr>\n",
       "      <th>4</th>\n",
       "      <td>19</td>\n",
       "      <td>92</td>\n",
       "      <td>Medium</td>\n",
       "      <td>Medium</td>\n",
       "      <td>Yes</td>\n",
       "      <td>6</td>\n",
       "      <td>65</td>\n",
       "      <td>Medium</td>\n",
       "      <td>Yes</td>\n",
       "      <td>3</td>\n",
       "      <td>Medium</td>\n",
       "      <td>High</td>\n",
       "      <td>Public</td>\n",
       "      <td>Neutral</td>\n",
       "      <td>4</td>\n",
       "      <td>No</td>\n",
       "      <td>College</td>\n",
       "      <td>Near</td>\n",
       "      <td>Female</td>\n",
       "      <td>70</td>\n",
       "    </tr>\n",
       "    <tr>\n",
       "      <th>...</th>\n",
       "      <td>...</td>\n",
       "      <td>...</td>\n",
       "      <td>...</td>\n",
       "      <td>...</td>\n",
       "      <td>...</td>\n",
       "      <td>...</td>\n",
       "      <td>...</td>\n",
       "      <td>...</td>\n",
       "      <td>...</td>\n",
       "      <td>...</td>\n",
       "      <td>...</td>\n",
       "      <td>...</td>\n",
       "      <td>...</td>\n",
       "      <td>...</td>\n",
       "      <td>...</td>\n",
       "      <td>...</td>\n",
       "      <td>...</td>\n",
       "      <td>...</td>\n",
       "      <td>...</td>\n",
       "      <td>...</td>\n",
       "    </tr>\n",
       "    <tr>\n",
       "      <th>6602</th>\n",
       "      <td>25</td>\n",
       "      <td>69</td>\n",
       "      <td>High</td>\n",
       "      <td>Medium</td>\n",
       "      <td>No</td>\n",
       "      <td>7</td>\n",
       "      <td>76</td>\n",
       "      <td>Medium</td>\n",
       "      <td>Yes</td>\n",
       "      <td>1</td>\n",
       "      <td>High</td>\n",
       "      <td>Medium</td>\n",
       "      <td>Public</td>\n",
       "      <td>Positive</td>\n",
       "      <td>2</td>\n",
       "      <td>No</td>\n",
       "      <td>High School</td>\n",
       "      <td>Near</td>\n",
       "      <td>Female</td>\n",
       "      <td>68</td>\n",
       "    </tr>\n",
       "    <tr>\n",
       "      <th>6603</th>\n",
       "      <td>23</td>\n",
       "      <td>76</td>\n",
       "      <td>High</td>\n",
       "      <td>Medium</td>\n",
       "      <td>No</td>\n",
       "      <td>8</td>\n",
       "      <td>81</td>\n",
       "      <td>Medium</td>\n",
       "      <td>Yes</td>\n",
       "      <td>3</td>\n",
       "      <td>Low</td>\n",
       "      <td>High</td>\n",
       "      <td>Public</td>\n",
       "      <td>Positive</td>\n",
       "      <td>2</td>\n",
       "      <td>No</td>\n",
       "      <td>High School</td>\n",
       "      <td>Near</td>\n",
       "      <td>Female</td>\n",
       "      <td>69</td>\n",
       "    </tr>\n",
       "    <tr>\n",
       "      <th>6604</th>\n",
       "      <td>20</td>\n",
       "      <td>90</td>\n",
       "      <td>Medium</td>\n",
       "      <td>Low</td>\n",
       "      <td>Yes</td>\n",
       "      <td>6</td>\n",
       "      <td>65</td>\n",
       "      <td>Low</td>\n",
       "      <td>Yes</td>\n",
       "      <td>3</td>\n",
       "      <td>Low</td>\n",
       "      <td>Medium</td>\n",
       "      <td>Public</td>\n",
       "      <td>Negative</td>\n",
       "      <td>2</td>\n",
       "      <td>No</td>\n",
       "      <td>Postgraduate</td>\n",
       "      <td>Near</td>\n",
       "      <td>Female</td>\n",
       "      <td>68</td>\n",
       "    </tr>\n",
       "    <tr>\n",
       "      <th>6605</th>\n",
       "      <td>10</td>\n",
       "      <td>86</td>\n",
       "      <td>High</td>\n",
       "      <td>High</td>\n",
       "      <td>Yes</td>\n",
       "      <td>6</td>\n",
       "      <td>91</td>\n",
       "      <td>High</td>\n",
       "      <td>Yes</td>\n",
       "      <td>2</td>\n",
       "      <td>Low</td>\n",
       "      <td>Medium</td>\n",
       "      <td>Private</td>\n",
       "      <td>Positive</td>\n",
       "      <td>3</td>\n",
       "      <td>No</td>\n",
       "      <td>High School</td>\n",
       "      <td>Far</td>\n",
       "      <td>Female</td>\n",
       "      <td>68</td>\n",
       "    </tr>\n",
       "    <tr>\n",
       "      <th>6606</th>\n",
       "      <td>15</td>\n",
       "      <td>67</td>\n",
       "      <td>Medium</td>\n",
       "      <td>Low</td>\n",
       "      <td>Yes</td>\n",
       "      <td>9</td>\n",
       "      <td>94</td>\n",
       "      <td>Medium</td>\n",
       "      <td>Yes</td>\n",
       "      <td>0</td>\n",
       "      <td>Medium</td>\n",
       "      <td>Medium</td>\n",
       "      <td>Public</td>\n",
       "      <td>Positive</td>\n",
       "      <td>4</td>\n",
       "      <td>No</td>\n",
       "      <td>Postgraduate</td>\n",
       "      <td>Near</td>\n",
       "      <td>Male</td>\n",
       "      <td>64</td>\n",
       "    </tr>\n",
       "  </tbody>\n",
       "</table>\n",
       "<p>6607 rows × 20 columns</p>\n",
       "</div>"
      ],
      "text/plain": [
       "      Hours_Studied  Attendance Parental_Involvement Access_to_Resources  \\\n",
       "0                23          84                  Low                High   \n",
       "1                19          64                  Low              Medium   \n",
       "2                24          98               Medium              Medium   \n",
       "3                29          89                  Low              Medium   \n",
       "4                19          92               Medium              Medium   \n",
       "...             ...         ...                  ...                 ...   \n",
       "6602             25          69                 High              Medium   \n",
       "6603             23          76                 High              Medium   \n",
       "6604             20          90               Medium                 Low   \n",
       "6605             10          86                 High                High   \n",
       "6606             15          67               Medium                 Low   \n",
       "\n",
       "     Extracurricular_Activities  Sleep_Hours  Previous_Scores  \\\n",
       "0                            No            7               73   \n",
       "1                            No            8               59   \n",
       "2                           Yes            7               91   \n",
       "3                           Yes            8               98   \n",
       "4                           Yes            6               65   \n",
       "...                         ...          ...              ...   \n",
       "6602                         No            7               76   \n",
       "6603                         No            8               81   \n",
       "6604                        Yes            6               65   \n",
       "6605                        Yes            6               91   \n",
       "6606                        Yes            9               94   \n",
       "\n",
       "     Motivation_Level Internet_Access  Tutoring_Sessions Family_Income  \\\n",
       "0                 Low             Yes                  0           Low   \n",
       "1                 Low             Yes                  2        Medium   \n",
       "2              Medium             Yes                  2        Medium   \n",
       "3              Medium             Yes                  1        Medium   \n",
       "4              Medium             Yes                  3        Medium   \n",
       "...               ...             ...                ...           ...   \n",
       "6602           Medium             Yes                  1          High   \n",
       "6603           Medium             Yes                  3           Low   \n",
       "6604              Low             Yes                  3           Low   \n",
       "6605             High             Yes                  2           Low   \n",
       "6606           Medium             Yes                  0        Medium   \n",
       "\n",
       "     Teacher_Quality School_Type Peer_Influence  Physical_Activity  \\\n",
       "0             Medium      Public       Positive                  3   \n",
       "1             Medium      Public       Negative                  4   \n",
       "2             Medium      Public        Neutral                  4   \n",
       "3             Medium      Public       Negative                  4   \n",
       "4               High      Public        Neutral                  4   \n",
       "...              ...         ...            ...                ...   \n",
       "6602          Medium      Public       Positive                  2   \n",
       "6603            High      Public       Positive                  2   \n",
       "6604          Medium      Public       Negative                  2   \n",
       "6605          Medium     Private       Positive                  3   \n",
       "6606          Medium      Public       Positive                  4   \n",
       "\n",
       "     Learning_Disabilities Parental_Education_Level Distance_from_Home  \\\n",
       "0                       No              High School               Near   \n",
       "1                       No                  College           Moderate   \n",
       "2                       No             Postgraduate               Near   \n",
       "3                       No              High School           Moderate   \n",
       "4                       No                  College               Near   \n",
       "...                    ...                      ...                ...   \n",
       "6602                    No              High School               Near   \n",
       "6603                    No              High School               Near   \n",
       "6604                    No             Postgraduate               Near   \n",
       "6605                    No              High School                Far   \n",
       "6606                    No             Postgraduate               Near   \n",
       "\n",
       "      Gender  Exam_Score  \n",
       "0       Male          67  \n",
       "1     Female          61  \n",
       "2       Male          74  \n",
       "3       Male          71  \n",
       "4     Female          70  \n",
       "...      ...         ...  \n",
       "6602  Female          68  \n",
       "6603  Female          69  \n",
       "6604  Female          68  \n",
       "6605  Female          68  \n",
       "6606    Male          64  \n",
       "\n",
       "[6607 rows x 20 columns]"
      ]
     },
     "execution_count": 2,
     "metadata": {},
     "output_type": "execute_result"
    }
   ],
   "source": [
    "file_path = r\"C:\\Users\\leube\\Ironhack\\Bootcamp\\Final_project\\archive (33)\\StudentPerformanceFactors.csv\"\n",
    "\n",
    "df = pd.read_csv(file_path)\n",
    "df"
   ]
  },
  {
   "cell_type": "code",
   "execution_count": 3,
   "id": "88929f0e",
   "metadata": {},
   "outputs": [
    {
     "name": "stdout",
     "output_type": "stream",
     "text": [
      "<class 'pandas.core.frame.DataFrame'>\n",
      "RangeIndex: 6607 entries, 0 to 6606\n",
      "Data columns (total 20 columns):\n",
      " #   Column                      Non-Null Count  Dtype \n",
      "---  ------                      --------------  ----- \n",
      " 0   Hours_Studied               6607 non-null   int64 \n",
      " 1   Attendance                  6607 non-null   int64 \n",
      " 2   Parental_Involvement        6607 non-null   object\n",
      " 3   Access_to_Resources         6607 non-null   object\n",
      " 4   Extracurricular_Activities  6607 non-null   object\n",
      " 5   Sleep_Hours                 6607 non-null   int64 \n",
      " 6   Previous_Scores             6607 non-null   int64 \n",
      " 7   Motivation_Level            6607 non-null   object\n",
      " 8   Internet_Access             6607 non-null   object\n",
      " 9   Tutoring_Sessions           6607 non-null   int64 \n",
      " 10  Family_Income               6607 non-null   object\n",
      " 11  Teacher_Quality             6529 non-null   object\n",
      " 12  School_Type                 6607 non-null   object\n",
      " 13  Peer_Influence              6607 non-null   object\n",
      " 14  Physical_Activity           6607 non-null   int64 \n",
      " 15  Learning_Disabilities       6607 non-null   object\n",
      " 16  Parental_Education_Level    6517 non-null   object\n",
      " 17  Distance_from_Home          6540 non-null   object\n",
      " 18  Gender                      6607 non-null   object\n",
      " 19  Exam_Score                  6607 non-null   int64 \n",
      "dtypes: int64(7), object(13)\n",
      "memory usage: 1.0+ MB\n"
     ]
    }
   ],
   "source": [
    "df.info()"
   ]
  },
  {
   "cell_type": "code",
   "execution_count": 51,
   "id": "03534d11",
   "metadata": {},
   "outputs": [
    {
     "data": {
      "text/plain": [
       "Hours_Studied                  0\n",
       "Attendance                     0\n",
       "Parental_Involvement           0\n",
       "Access_to_Resources            0\n",
       "Extracurricular_Activities     0\n",
       "Sleep_Hours                    0\n",
       "Previous_Scores                0\n",
       "Motivation_Level               0\n",
       "Internet_Access                0\n",
       "Tutoring_Sessions              0\n",
       "Family_Income                  0\n",
       "Teacher_Quality               78\n",
       "School_Type                    0\n",
       "Peer_Influence                 0\n",
       "Physical_Activity              0\n",
       "Learning_Disabilities          0\n",
       "Parental_Education_Level      90\n",
       "Distance_from_Home            67\n",
       "Gender                         0\n",
       "Exam_Score                     0\n",
       "dtype: int64"
      ]
     },
     "execution_count": 51,
     "metadata": {},
     "output_type": "execute_result"
    }
   ],
   "source": [
    "df.isna().sum()"
   ]
  },
  {
   "cell_type": "code",
   "execution_count": 5,
   "id": "c7edaae2",
   "metadata": {},
   "outputs": [],
   "source": [
    "df_cleaned = df.dropna()"
   ]
  },
  {
   "cell_type": "code",
   "execution_count": 6,
   "id": "6dd7fd9b",
   "metadata": {},
   "outputs": [
    {
     "data": {
      "text/html": [
       "<div>\n",
       "<style scoped>\n",
       "    .dataframe tbody tr th:only-of-type {\n",
       "        vertical-align: middle;\n",
       "    }\n",
       "\n",
       "    .dataframe tbody tr th {\n",
       "        vertical-align: top;\n",
       "    }\n",
       "\n",
       "    .dataframe thead th {\n",
       "        text-align: right;\n",
       "    }\n",
       "</style>\n",
       "<table border=\"1\" class=\"dataframe\">\n",
       "  <thead>\n",
       "    <tr style=\"text-align: right;\">\n",
       "      <th></th>\n",
       "      <th>Hours_Studied</th>\n",
       "      <th>Attendance</th>\n",
       "      <th>Parental_Involvement</th>\n",
       "      <th>Access_to_Resources</th>\n",
       "      <th>Extracurricular_Activities</th>\n",
       "      <th>Sleep_Hours</th>\n",
       "      <th>Previous_Scores</th>\n",
       "      <th>Motivation_Level</th>\n",
       "      <th>Internet_Access</th>\n",
       "      <th>Tutoring_Sessions</th>\n",
       "      <th>Family_Income</th>\n",
       "      <th>Teacher_Quality</th>\n",
       "      <th>School_Type</th>\n",
       "      <th>Peer_Influence</th>\n",
       "      <th>Physical_Activity</th>\n",
       "      <th>Learning_Disabilities</th>\n",
       "      <th>Parental_Education_Level</th>\n",
       "      <th>Distance_from_Home</th>\n",
       "      <th>Gender</th>\n",
       "      <th>Exam_Score</th>\n",
       "    </tr>\n",
       "  </thead>\n",
       "  <tbody>\n",
       "    <tr>\n",
       "      <th>0</th>\n",
       "      <td>23</td>\n",
       "      <td>84</td>\n",
       "      <td>Low</td>\n",
       "      <td>High</td>\n",
       "      <td>No</td>\n",
       "      <td>7</td>\n",
       "      <td>73</td>\n",
       "      <td>Low</td>\n",
       "      <td>Yes</td>\n",
       "      <td>0</td>\n",
       "      <td>Low</td>\n",
       "      <td>Medium</td>\n",
       "      <td>Public</td>\n",
       "      <td>Positive</td>\n",
       "      <td>3</td>\n",
       "      <td>No</td>\n",
       "      <td>High School</td>\n",
       "      <td>Near</td>\n",
       "      <td>Male</td>\n",
       "      <td>67</td>\n",
       "    </tr>\n",
       "    <tr>\n",
       "      <th>1</th>\n",
       "      <td>19</td>\n",
       "      <td>64</td>\n",
       "      <td>Low</td>\n",
       "      <td>Medium</td>\n",
       "      <td>No</td>\n",
       "      <td>8</td>\n",
       "      <td>59</td>\n",
       "      <td>Low</td>\n",
       "      <td>Yes</td>\n",
       "      <td>2</td>\n",
       "      <td>Medium</td>\n",
       "      <td>Medium</td>\n",
       "      <td>Public</td>\n",
       "      <td>Negative</td>\n",
       "      <td>4</td>\n",
       "      <td>No</td>\n",
       "      <td>College</td>\n",
       "      <td>Moderate</td>\n",
       "      <td>Female</td>\n",
       "      <td>61</td>\n",
       "    </tr>\n",
       "    <tr>\n",
       "      <th>2</th>\n",
       "      <td>24</td>\n",
       "      <td>98</td>\n",
       "      <td>Medium</td>\n",
       "      <td>Medium</td>\n",
       "      <td>Yes</td>\n",
       "      <td>7</td>\n",
       "      <td>91</td>\n",
       "      <td>Medium</td>\n",
       "      <td>Yes</td>\n",
       "      <td>2</td>\n",
       "      <td>Medium</td>\n",
       "      <td>Medium</td>\n",
       "      <td>Public</td>\n",
       "      <td>Neutral</td>\n",
       "      <td>4</td>\n",
       "      <td>No</td>\n",
       "      <td>Postgraduate</td>\n",
       "      <td>Near</td>\n",
       "      <td>Male</td>\n",
       "      <td>74</td>\n",
       "    </tr>\n",
       "    <tr>\n",
       "      <th>3</th>\n",
       "      <td>29</td>\n",
       "      <td>89</td>\n",
       "      <td>Low</td>\n",
       "      <td>Medium</td>\n",
       "      <td>Yes</td>\n",
       "      <td>8</td>\n",
       "      <td>98</td>\n",
       "      <td>Medium</td>\n",
       "      <td>Yes</td>\n",
       "      <td>1</td>\n",
       "      <td>Medium</td>\n",
       "      <td>Medium</td>\n",
       "      <td>Public</td>\n",
       "      <td>Negative</td>\n",
       "      <td>4</td>\n",
       "      <td>No</td>\n",
       "      <td>High School</td>\n",
       "      <td>Moderate</td>\n",
       "      <td>Male</td>\n",
       "      <td>71</td>\n",
       "    </tr>\n",
       "    <tr>\n",
       "      <th>4</th>\n",
       "      <td>19</td>\n",
       "      <td>92</td>\n",
       "      <td>Medium</td>\n",
       "      <td>Medium</td>\n",
       "      <td>Yes</td>\n",
       "      <td>6</td>\n",
       "      <td>65</td>\n",
       "      <td>Medium</td>\n",
       "      <td>Yes</td>\n",
       "      <td>3</td>\n",
       "      <td>Medium</td>\n",
       "      <td>High</td>\n",
       "      <td>Public</td>\n",
       "      <td>Neutral</td>\n",
       "      <td>4</td>\n",
       "      <td>No</td>\n",
       "      <td>College</td>\n",
       "      <td>Near</td>\n",
       "      <td>Female</td>\n",
       "      <td>70</td>\n",
       "    </tr>\n",
       "    <tr>\n",
       "      <th>...</th>\n",
       "      <td>...</td>\n",
       "      <td>...</td>\n",
       "      <td>...</td>\n",
       "      <td>...</td>\n",
       "      <td>...</td>\n",
       "      <td>...</td>\n",
       "      <td>...</td>\n",
       "      <td>...</td>\n",
       "      <td>...</td>\n",
       "      <td>...</td>\n",
       "      <td>...</td>\n",
       "      <td>...</td>\n",
       "      <td>...</td>\n",
       "      <td>...</td>\n",
       "      <td>...</td>\n",
       "      <td>...</td>\n",
       "      <td>...</td>\n",
       "      <td>...</td>\n",
       "      <td>...</td>\n",
       "      <td>...</td>\n",
       "    </tr>\n",
       "    <tr>\n",
       "      <th>6602</th>\n",
       "      <td>25</td>\n",
       "      <td>69</td>\n",
       "      <td>High</td>\n",
       "      <td>Medium</td>\n",
       "      <td>No</td>\n",
       "      <td>7</td>\n",
       "      <td>76</td>\n",
       "      <td>Medium</td>\n",
       "      <td>Yes</td>\n",
       "      <td>1</td>\n",
       "      <td>High</td>\n",
       "      <td>Medium</td>\n",
       "      <td>Public</td>\n",
       "      <td>Positive</td>\n",
       "      <td>2</td>\n",
       "      <td>No</td>\n",
       "      <td>High School</td>\n",
       "      <td>Near</td>\n",
       "      <td>Female</td>\n",
       "      <td>68</td>\n",
       "    </tr>\n",
       "    <tr>\n",
       "      <th>6603</th>\n",
       "      <td>23</td>\n",
       "      <td>76</td>\n",
       "      <td>High</td>\n",
       "      <td>Medium</td>\n",
       "      <td>No</td>\n",
       "      <td>8</td>\n",
       "      <td>81</td>\n",
       "      <td>Medium</td>\n",
       "      <td>Yes</td>\n",
       "      <td>3</td>\n",
       "      <td>Low</td>\n",
       "      <td>High</td>\n",
       "      <td>Public</td>\n",
       "      <td>Positive</td>\n",
       "      <td>2</td>\n",
       "      <td>No</td>\n",
       "      <td>High School</td>\n",
       "      <td>Near</td>\n",
       "      <td>Female</td>\n",
       "      <td>69</td>\n",
       "    </tr>\n",
       "    <tr>\n",
       "      <th>6604</th>\n",
       "      <td>20</td>\n",
       "      <td>90</td>\n",
       "      <td>Medium</td>\n",
       "      <td>Low</td>\n",
       "      <td>Yes</td>\n",
       "      <td>6</td>\n",
       "      <td>65</td>\n",
       "      <td>Low</td>\n",
       "      <td>Yes</td>\n",
       "      <td>3</td>\n",
       "      <td>Low</td>\n",
       "      <td>Medium</td>\n",
       "      <td>Public</td>\n",
       "      <td>Negative</td>\n",
       "      <td>2</td>\n",
       "      <td>No</td>\n",
       "      <td>Postgraduate</td>\n",
       "      <td>Near</td>\n",
       "      <td>Female</td>\n",
       "      <td>68</td>\n",
       "    </tr>\n",
       "    <tr>\n",
       "      <th>6605</th>\n",
       "      <td>10</td>\n",
       "      <td>86</td>\n",
       "      <td>High</td>\n",
       "      <td>High</td>\n",
       "      <td>Yes</td>\n",
       "      <td>6</td>\n",
       "      <td>91</td>\n",
       "      <td>High</td>\n",
       "      <td>Yes</td>\n",
       "      <td>2</td>\n",
       "      <td>Low</td>\n",
       "      <td>Medium</td>\n",
       "      <td>Private</td>\n",
       "      <td>Positive</td>\n",
       "      <td>3</td>\n",
       "      <td>No</td>\n",
       "      <td>High School</td>\n",
       "      <td>Far</td>\n",
       "      <td>Female</td>\n",
       "      <td>68</td>\n",
       "    </tr>\n",
       "    <tr>\n",
       "      <th>6606</th>\n",
       "      <td>15</td>\n",
       "      <td>67</td>\n",
       "      <td>Medium</td>\n",
       "      <td>Low</td>\n",
       "      <td>Yes</td>\n",
       "      <td>9</td>\n",
       "      <td>94</td>\n",
       "      <td>Medium</td>\n",
       "      <td>Yes</td>\n",
       "      <td>0</td>\n",
       "      <td>Medium</td>\n",
       "      <td>Medium</td>\n",
       "      <td>Public</td>\n",
       "      <td>Positive</td>\n",
       "      <td>4</td>\n",
       "      <td>No</td>\n",
       "      <td>Postgraduate</td>\n",
       "      <td>Near</td>\n",
       "      <td>Male</td>\n",
       "      <td>64</td>\n",
       "    </tr>\n",
       "  </tbody>\n",
       "</table>\n",
       "<p>6378 rows × 20 columns</p>\n",
       "</div>"
      ],
      "text/plain": [
       "      Hours_Studied  Attendance Parental_Involvement Access_to_Resources  \\\n",
       "0                23          84                  Low                High   \n",
       "1                19          64                  Low              Medium   \n",
       "2                24          98               Medium              Medium   \n",
       "3                29          89                  Low              Medium   \n",
       "4                19          92               Medium              Medium   \n",
       "...             ...         ...                  ...                 ...   \n",
       "6602             25          69                 High              Medium   \n",
       "6603             23          76                 High              Medium   \n",
       "6604             20          90               Medium                 Low   \n",
       "6605             10          86                 High                High   \n",
       "6606             15          67               Medium                 Low   \n",
       "\n",
       "     Extracurricular_Activities  Sleep_Hours  Previous_Scores  \\\n",
       "0                            No            7               73   \n",
       "1                            No            8               59   \n",
       "2                           Yes            7               91   \n",
       "3                           Yes            8               98   \n",
       "4                           Yes            6               65   \n",
       "...                         ...          ...              ...   \n",
       "6602                         No            7               76   \n",
       "6603                         No            8               81   \n",
       "6604                        Yes            6               65   \n",
       "6605                        Yes            6               91   \n",
       "6606                        Yes            9               94   \n",
       "\n",
       "     Motivation_Level Internet_Access  Tutoring_Sessions Family_Income  \\\n",
       "0                 Low             Yes                  0           Low   \n",
       "1                 Low             Yes                  2        Medium   \n",
       "2              Medium             Yes                  2        Medium   \n",
       "3              Medium             Yes                  1        Medium   \n",
       "4              Medium             Yes                  3        Medium   \n",
       "...               ...             ...                ...           ...   \n",
       "6602           Medium             Yes                  1          High   \n",
       "6603           Medium             Yes                  3           Low   \n",
       "6604              Low             Yes                  3           Low   \n",
       "6605             High             Yes                  2           Low   \n",
       "6606           Medium             Yes                  0        Medium   \n",
       "\n",
       "     Teacher_Quality School_Type Peer_Influence  Physical_Activity  \\\n",
       "0             Medium      Public       Positive                  3   \n",
       "1             Medium      Public       Negative                  4   \n",
       "2             Medium      Public        Neutral                  4   \n",
       "3             Medium      Public       Negative                  4   \n",
       "4               High      Public        Neutral                  4   \n",
       "...              ...         ...            ...                ...   \n",
       "6602          Medium      Public       Positive                  2   \n",
       "6603            High      Public       Positive                  2   \n",
       "6604          Medium      Public       Negative                  2   \n",
       "6605          Medium     Private       Positive                  3   \n",
       "6606          Medium      Public       Positive                  4   \n",
       "\n",
       "     Learning_Disabilities Parental_Education_Level Distance_from_Home  \\\n",
       "0                       No              High School               Near   \n",
       "1                       No                  College           Moderate   \n",
       "2                       No             Postgraduate               Near   \n",
       "3                       No              High School           Moderate   \n",
       "4                       No                  College               Near   \n",
       "...                    ...                      ...                ...   \n",
       "6602                    No              High School               Near   \n",
       "6603                    No              High School               Near   \n",
       "6604                    No             Postgraduate               Near   \n",
       "6605                    No              High School                Far   \n",
       "6606                    No             Postgraduate               Near   \n",
       "\n",
       "      Gender  Exam_Score  \n",
       "0       Male          67  \n",
       "1     Female          61  \n",
       "2       Male          74  \n",
       "3       Male          71  \n",
       "4     Female          70  \n",
       "...      ...         ...  \n",
       "6602  Female          68  \n",
       "6603  Female          69  \n",
       "6604  Female          68  \n",
       "6605  Female          68  \n",
       "6606    Male          64  \n",
       "\n",
       "[6378 rows x 20 columns]"
      ]
     },
     "execution_count": 6,
     "metadata": {},
     "output_type": "execute_result"
    }
   ],
   "source": [
    "df_cleaned"
   ]
  },
  {
   "cell_type": "code",
   "execution_count": 52,
   "id": "9452e91d",
   "metadata": {},
   "outputs": [
    {
     "name": "stdout",
     "output_type": "stream",
     "text": [
      "<class 'pandas.core.frame.DataFrame'>\n",
      "Index: 6378 entries, 0 to 6606\n",
      "Data columns (total 20 columns):\n",
      " #   Column                      Non-Null Count  Dtype\n",
      "---  ------                      --------------  -----\n",
      " 0   Hours_Studied               6378 non-null   int64\n",
      " 1   Attendance                  6378 non-null   int64\n",
      " 2   Parental_Involvement        6378 non-null   int64\n",
      " 3   Access_to_Resources         6378 non-null   int64\n",
      " 4   Extracurricular_Activities  6378 non-null   int64\n",
      " 5   Sleep_Hours                 6378 non-null   int64\n",
      " 6   Previous_Scores             6378 non-null   int64\n",
      " 7   Motivation_Level            6378 non-null   int64\n",
      " 8   Internet_Access             6378 non-null   int64\n",
      " 9   Tutoring_Sessions           6378 non-null   int64\n",
      " 10  Family_Income               6378 non-null   int64\n",
      " 11  Teacher_Quality             6378 non-null   int64\n",
      " 12  School_Type                 6378 non-null   int64\n",
      " 13  Peer_Influence              6378 non-null   int64\n",
      " 14  Physical_Activity           6378 non-null   int64\n",
      " 15  Learning_Disabilities       6378 non-null   int64\n",
      " 16  Parental_Education_Level    6378 non-null   int64\n",
      " 17  Distance_from_Home          6378 non-null   int64\n",
      " 18  Gender                      6378 non-null   int64\n",
      " 19  Exam_Score                  6378 non-null   int64\n",
      "dtypes: int64(20)\n",
      "memory usage: 1.0 MB\n"
     ]
    }
   ],
   "source": [
    "df_cleaned.info()"
   ]
  },
  {
   "cell_type": "code",
   "execution_count": 8,
   "id": "359dfc88",
   "metadata": {},
   "outputs": [
    {
     "data": {
      "text/plain": [
       "array(['Low', 'Medium', 'High'], dtype=object)"
      ]
     },
     "execution_count": 8,
     "metadata": {},
     "output_type": "execute_result"
    }
   ],
   "source": [
    "df_cleaned['Parental_Involvement'].unique()"
   ]
  },
  {
   "cell_type": "code",
   "execution_count": 9,
   "id": "d90bc2a5",
   "metadata": {},
   "outputs": [
    {
     "name": "stderr",
     "output_type": "stream",
     "text": [
      "C:\\Users\\leube\\AppData\\Local\\Temp\\ipykernel_3820\\3106882308.py:1: SettingWithCopyWarning: \n",
      "A value is trying to be set on a copy of a slice from a DataFrame.\n",
      "Try using .loc[row_indexer,col_indexer] = value instead\n",
      "\n",
      "See the caveats in the documentation: https://pandas.pydata.org/pandas-docs/stable/user_guide/indexing.html#returning-a-view-versus-a-copy\n",
      "  df_cleaned['Parental_Involvement'] = df_cleaned['Parental_Involvement'].replace('Low', 1).replace('Medium', 2).replace('High', 3)\n"
     ]
    }
   ],
   "source": [
    "df_cleaned['Parental_Involvement'] = df_cleaned['Parental_Involvement'].replace('Low', 1).replace('Medium', 2).replace('High', 3)"
   ]
  },
  {
   "cell_type": "code",
   "execution_count": 10,
   "id": "252720fd",
   "metadata": {},
   "outputs": [
    {
     "data": {
      "text/plain": [
       "0       1\n",
       "1       1\n",
       "2       2\n",
       "3       1\n",
       "4       2\n",
       "       ..\n",
       "6602    3\n",
       "6603    3\n",
       "6604    2\n",
       "6605    3\n",
       "6606    2\n",
       "Name: Parental_Involvement, Length: 6378, dtype: int64"
      ]
     },
     "execution_count": 10,
     "metadata": {},
     "output_type": "execute_result"
    }
   ],
   "source": [
    "df_cleaned['Parental_Involvement']"
   ]
  },
  {
   "cell_type": "code",
   "execution_count": 11,
   "id": "9f2828bf",
   "metadata": {},
   "outputs": [
    {
     "data": {
      "text/plain": [
       "array(['High', 'Medium', 'Low'], dtype=object)"
      ]
     },
     "execution_count": 11,
     "metadata": {},
     "output_type": "execute_result"
    }
   ],
   "source": [
    "df_cleaned['Access_to_Resources'].unique()"
   ]
  },
  {
   "cell_type": "code",
   "execution_count": 12,
   "id": "bcbb871e",
   "metadata": {},
   "outputs": [
    {
     "name": "stderr",
     "output_type": "stream",
     "text": [
      "C:\\Users\\leube\\AppData\\Local\\Temp\\ipykernel_3820\\965109487.py:1: SettingWithCopyWarning: \n",
      "A value is trying to be set on a copy of a slice from a DataFrame.\n",
      "Try using .loc[row_indexer,col_indexer] = value instead\n",
      "\n",
      "See the caveats in the documentation: https://pandas.pydata.org/pandas-docs/stable/user_guide/indexing.html#returning-a-view-versus-a-copy\n",
      "  df_cleaned['Access_to_Resources'] = df_cleaned['Access_to_Resources'].replace('Low', 1).replace('Medium', 2).replace('High', 3)\n"
     ]
    }
   ],
   "source": [
    "df_cleaned['Access_to_Resources'] = df_cleaned['Access_to_Resources'].replace('Low', 1).replace('Medium', 2).replace('High', 3)"
   ]
  },
  {
   "cell_type": "code",
   "execution_count": 13,
   "id": "310e0488",
   "metadata": {},
   "outputs": [
    {
     "data": {
      "text/plain": [
       "0       3\n",
       "1       2\n",
       "2       2\n",
       "3       2\n",
       "4       2\n",
       "       ..\n",
       "6602    2\n",
       "6603    2\n",
       "6604    1\n",
       "6605    3\n",
       "6606    1\n",
       "Name: Access_to_Resources, Length: 6378, dtype: int64"
      ]
     },
     "execution_count": 13,
     "metadata": {},
     "output_type": "execute_result"
    }
   ],
   "source": [
    "df_cleaned['Access_to_Resources']"
   ]
  },
  {
   "cell_type": "code",
   "execution_count": 14,
   "id": "69d5ff7c",
   "metadata": {},
   "outputs": [
    {
     "data": {
      "text/plain": [
       "array(['No', 'Yes'], dtype=object)"
      ]
     },
     "execution_count": 14,
     "metadata": {},
     "output_type": "execute_result"
    }
   ],
   "source": [
    "df_cleaned['Extracurricular_Activities'].unique()"
   ]
  },
  {
   "cell_type": "code",
   "execution_count": 15,
   "id": "b57585a6",
   "metadata": {},
   "outputs": [
    {
     "name": "stderr",
     "output_type": "stream",
     "text": [
      "C:\\Users\\leube\\AppData\\Local\\Temp\\ipykernel_3820\\2374457325.py:1: SettingWithCopyWarning: \n",
      "A value is trying to be set on a copy of a slice from a DataFrame.\n",
      "Try using .loc[row_indexer,col_indexer] = value instead\n",
      "\n",
      "See the caveats in the documentation: https://pandas.pydata.org/pandas-docs/stable/user_guide/indexing.html#returning-a-view-versus-a-copy\n",
      "  df_cleaned['Extracurricular_Activities'] = df_cleaned['Extracurricular_Activities'].replace('No', 0).replace('Yes', 1)\n"
     ]
    }
   ],
   "source": [
    "df_cleaned['Extracurricular_Activities'] = df_cleaned['Extracurricular_Activities'].replace('No', 0).replace('Yes', 1)"
   ]
  },
  {
   "cell_type": "code",
   "execution_count": 16,
   "id": "9cf45045",
   "metadata": {},
   "outputs": [
    {
     "data": {
      "text/plain": [
       "0       0\n",
       "1       0\n",
       "2       1\n",
       "3       1\n",
       "4       1\n",
       "       ..\n",
       "6602    0\n",
       "6603    0\n",
       "6604    1\n",
       "6605    1\n",
       "6606    1\n",
       "Name: Extracurricular_Activities, Length: 6378, dtype: int64"
      ]
     },
     "execution_count": 16,
     "metadata": {},
     "output_type": "execute_result"
    }
   ],
   "source": [
    "df_cleaned['Extracurricular_Activities']"
   ]
  },
  {
   "cell_type": "code",
   "execution_count": 17,
   "id": "f7fadf2a",
   "metadata": {},
   "outputs": [
    {
     "data": {
      "text/plain": [
       "array(['Low', 'Medium', 'High'], dtype=object)"
      ]
     },
     "execution_count": 17,
     "metadata": {},
     "output_type": "execute_result"
    }
   ],
   "source": [
    "df_cleaned['Motivation_Level'].unique()"
   ]
  },
  {
   "cell_type": "code",
   "execution_count": 18,
   "id": "bf668fe7",
   "metadata": {},
   "outputs": [
    {
     "name": "stderr",
     "output_type": "stream",
     "text": [
      "C:\\Users\\leube\\AppData\\Local\\Temp\\ipykernel_3820\\2127333163.py:1: SettingWithCopyWarning: \n",
      "A value is trying to be set on a copy of a slice from a DataFrame.\n",
      "Try using .loc[row_indexer,col_indexer] = value instead\n",
      "\n",
      "See the caveats in the documentation: https://pandas.pydata.org/pandas-docs/stable/user_guide/indexing.html#returning-a-view-versus-a-copy\n",
      "  df_cleaned['Motivation_Level'] = df_cleaned['Motivation_Level'].replace('Low', 1).replace('Medium', 2).replace('High', 3)\n"
     ]
    }
   ],
   "source": [
    "df_cleaned['Motivation_Level'] = df_cleaned['Motivation_Level'].replace('Low', 1).replace('Medium', 2).replace('High', 3)"
   ]
  },
  {
   "cell_type": "code",
   "execution_count": 19,
   "id": "016ac2ce",
   "metadata": {},
   "outputs": [
    {
     "data": {
      "text/plain": [
       "0       1\n",
       "1       1\n",
       "2       2\n",
       "3       2\n",
       "4       2\n",
       "       ..\n",
       "6602    2\n",
       "6603    2\n",
       "6604    1\n",
       "6605    3\n",
       "6606    2\n",
       "Name: Motivation_Level, Length: 6378, dtype: int64"
      ]
     },
     "execution_count": 19,
     "metadata": {},
     "output_type": "execute_result"
    }
   ],
   "source": [
    "df_cleaned['Motivation_Level']"
   ]
  },
  {
   "cell_type": "code",
   "execution_count": 20,
   "id": "119f4a7f",
   "metadata": {},
   "outputs": [
    {
     "data": {
      "text/plain": [
       "array(['Yes', 'No'], dtype=object)"
      ]
     },
     "execution_count": 20,
     "metadata": {},
     "output_type": "execute_result"
    }
   ],
   "source": [
    "df_cleaned['Internet_Access'].unique()"
   ]
  },
  {
   "cell_type": "code",
   "execution_count": 21,
   "id": "49b5bccf",
   "metadata": {},
   "outputs": [
    {
     "name": "stderr",
     "output_type": "stream",
     "text": [
      "C:\\Users\\leube\\AppData\\Local\\Temp\\ipykernel_3820\\743129517.py:1: SettingWithCopyWarning: \n",
      "A value is trying to be set on a copy of a slice from a DataFrame.\n",
      "Try using .loc[row_indexer,col_indexer] = value instead\n",
      "\n",
      "See the caveats in the documentation: https://pandas.pydata.org/pandas-docs/stable/user_guide/indexing.html#returning-a-view-versus-a-copy\n",
      "  df_cleaned['Internet_Access'] = df_cleaned['Internet_Access'].replace('No', 0).replace('Yes', 1)\n"
     ]
    }
   ],
   "source": [
    "df_cleaned['Internet_Access'] = df_cleaned['Internet_Access'].replace('No', 0).replace('Yes', 1)"
   ]
  },
  {
   "cell_type": "code",
   "execution_count": 22,
   "id": "f0f92f05",
   "metadata": {},
   "outputs": [
    {
     "data": {
      "text/plain": [
       "0       1\n",
       "1       1\n",
       "2       1\n",
       "3       1\n",
       "4       1\n",
       "       ..\n",
       "6602    1\n",
       "6603    1\n",
       "6604    1\n",
       "6605    1\n",
       "6606    1\n",
       "Name: Internet_Access, Length: 6378, dtype: int64"
      ]
     },
     "execution_count": 22,
     "metadata": {},
     "output_type": "execute_result"
    }
   ],
   "source": [
    "df_cleaned['Internet_Access']"
   ]
  },
  {
   "cell_type": "code",
   "execution_count": 23,
   "id": "c352596c",
   "metadata": {},
   "outputs": [
    {
     "data": {
      "text/plain": [
       "array(['Low', 'Medium', 'High'], dtype=object)"
      ]
     },
     "execution_count": 23,
     "metadata": {},
     "output_type": "execute_result"
    }
   ],
   "source": [
    "df['Family_Income'].unique()"
   ]
  },
  {
   "cell_type": "code",
   "execution_count": 24,
   "id": "5df07f7c",
   "metadata": {},
   "outputs": [
    {
     "name": "stderr",
     "output_type": "stream",
     "text": [
      "C:\\Users\\leube\\AppData\\Local\\Temp\\ipykernel_3820\\311212474.py:1: SettingWithCopyWarning: \n",
      "A value is trying to be set on a copy of a slice from a DataFrame.\n",
      "Try using .loc[row_indexer,col_indexer] = value instead\n",
      "\n",
      "See the caveats in the documentation: https://pandas.pydata.org/pandas-docs/stable/user_guide/indexing.html#returning-a-view-versus-a-copy\n",
      "  df_cleaned['Family_Income'] = df_cleaned['Family_Income'].replace('Low', 1).replace('Medium', 2).replace('High', 3)\n"
     ]
    }
   ],
   "source": [
    "df_cleaned['Family_Income'] = df_cleaned['Family_Income'].replace('Low', 1).replace('Medium', 2).replace('High', 3)"
   ]
  },
  {
   "cell_type": "code",
   "execution_count": 25,
   "id": "320cdef6",
   "metadata": {},
   "outputs": [
    {
     "data": {
      "text/plain": [
       "0       1\n",
       "1       2\n",
       "2       2\n",
       "3       2\n",
       "4       2\n",
       "       ..\n",
       "6602    3\n",
       "6603    1\n",
       "6604    1\n",
       "6605    1\n",
       "6606    2\n",
       "Name: Family_Income, Length: 6378, dtype: int64"
      ]
     },
     "execution_count": 25,
     "metadata": {},
     "output_type": "execute_result"
    }
   ],
   "source": [
    "df_cleaned['Family_Income']"
   ]
  },
  {
   "cell_type": "code",
   "execution_count": 26,
   "id": "6aaf9529",
   "metadata": {},
   "outputs": [
    {
     "data": {
      "text/plain": [
       "array(['Medium', 'High', 'Low'], dtype=object)"
      ]
     },
     "execution_count": 26,
     "metadata": {},
     "output_type": "execute_result"
    }
   ],
   "source": [
    "df_cleaned['Teacher_Quality'].unique()"
   ]
  },
  {
   "cell_type": "code",
   "execution_count": 27,
   "id": "261a9f67",
   "metadata": {},
   "outputs": [
    {
     "name": "stderr",
     "output_type": "stream",
     "text": [
      "C:\\Users\\leube\\AppData\\Local\\Temp\\ipykernel_3820\\1705296519.py:1: SettingWithCopyWarning: \n",
      "A value is trying to be set on a copy of a slice from a DataFrame.\n",
      "Try using .loc[row_indexer,col_indexer] = value instead\n",
      "\n",
      "See the caveats in the documentation: https://pandas.pydata.org/pandas-docs/stable/user_guide/indexing.html#returning-a-view-versus-a-copy\n",
      "  df_cleaned['Teacher_Quality'] = df_cleaned['Teacher_Quality'].replace('Low', 1).replace('Medium', 2).replace('High', 3)\n"
     ]
    }
   ],
   "source": [
    "df_cleaned['Teacher_Quality'] = df_cleaned['Teacher_Quality'].replace('Low', 1).replace('Medium', 2).replace('High', 3)"
   ]
  },
  {
   "cell_type": "code",
   "execution_count": 28,
   "id": "fa7572f1",
   "metadata": {},
   "outputs": [
    {
     "data": {
      "text/plain": [
       "0       2\n",
       "1       2\n",
       "2       2\n",
       "3       2\n",
       "4       3\n",
       "       ..\n",
       "6602    2\n",
       "6603    3\n",
       "6604    2\n",
       "6605    2\n",
       "6606    2\n",
       "Name: Teacher_Quality, Length: 6378, dtype: int64"
      ]
     },
     "execution_count": 28,
     "metadata": {},
     "output_type": "execute_result"
    }
   ],
   "source": [
    "df_cleaned['Teacher_Quality']"
   ]
  },
  {
   "cell_type": "code",
   "execution_count": 30,
   "id": "cd6a207a",
   "metadata": {},
   "outputs": [
    {
     "data": {
      "text/plain": [
       "array(['Public', 'Private'], dtype=object)"
      ]
     },
     "execution_count": 30,
     "metadata": {},
     "output_type": "execute_result"
    }
   ],
   "source": [
    "df_cleaned['School_Type'].unique()"
   ]
  },
  {
   "cell_type": "code",
   "execution_count": 31,
   "id": "b070a7b5",
   "metadata": {},
   "outputs": [
    {
     "name": "stderr",
     "output_type": "stream",
     "text": [
      "C:\\Users\\leube\\AppData\\Local\\Temp\\ipykernel_3820\\1502706732.py:1: SettingWithCopyWarning: \n",
      "A value is trying to be set on a copy of a slice from a DataFrame.\n",
      "Try using .loc[row_indexer,col_indexer] = value instead\n",
      "\n",
      "See the caveats in the documentation: https://pandas.pydata.org/pandas-docs/stable/user_guide/indexing.html#returning-a-view-versus-a-copy\n",
      "  df_cleaned['School_Type'] = df_cleaned['School_Type'].replace('Public', 0).replace('Private', 1)\n"
     ]
    }
   ],
   "source": [
    "df_cleaned['School_Type'] = df_cleaned['School_Type'].replace('Public', 0).replace('Private', 1)"
   ]
  },
  {
   "cell_type": "code",
   "execution_count": 32,
   "id": "d426cfec",
   "metadata": {},
   "outputs": [
    {
     "data": {
      "text/plain": [
       "0       0\n",
       "1       0\n",
       "2       0\n",
       "3       0\n",
       "4       0\n",
       "       ..\n",
       "6602    0\n",
       "6603    0\n",
       "6604    0\n",
       "6605    1\n",
       "6606    0\n",
       "Name: School_Type, Length: 6378, dtype: int64"
      ]
     },
     "execution_count": 32,
     "metadata": {},
     "output_type": "execute_result"
    }
   ],
   "source": [
    "df_cleaned['School_Type']"
   ]
  },
  {
   "cell_type": "code",
   "execution_count": 34,
   "id": "4a407818",
   "metadata": {},
   "outputs": [
    {
     "data": {
      "text/plain": [
       "array(['Positive', 'Negative', 'Neutral'], dtype=object)"
      ]
     },
     "execution_count": 34,
     "metadata": {},
     "output_type": "execute_result"
    }
   ],
   "source": [
    "df_cleaned['Peer_Influence'].unique()"
   ]
  },
  {
   "cell_type": "code",
   "execution_count": 35,
   "id": "ed4a232b",
   "metadata": {},
   "outputs": [
    {
     "name": "stderr",
     "output_type": "stream",
     "text": [
      "C:\\Users\\leube\\AppData\\Local\\Temp\\ipykernel_3820\\2156363108.py:1: SettingWithCopyWarning: \n",
      "A value is trying to be set on a copy of a slice from a DataFrame.\n",
      "Try using .loc[row_indexer,col_indexer] = value instead\n",
      "\n",
      "See the caveats in the documentation: https://pandas.pydata.org/pandas-docs/stable/user_guide/indexing.html#returning-a-view-versus-a-copy\n",
      "  df_cleaned['Peer_Influence'] = df_cleaned['Peer_Influence'].replace('Positive', 1).replace('Negative', 2).replace('Neutral', 3)\n"
     ]
    }
   ],
   "source": [
    "df_cleaned['Peer_Influence'] = df_cleaned['Peer_Influence'].replace('Positive', 1).replace('Negative', 2).replace('Neutral', 3)"
   ]
  },
  {
   "cell_type": "code",
   "execution_count": 36,
   "id": "af8ccea2",
   "metadata": {},
   "outputs": [
    {
     "data": {
      "text/plain": [
       "0       1\n",
       "1       2\n",
       "2       3\n",
       "3       2\n",
       "4       3\n",
       "       ..\n",
       "6602    1\n",
       "6603    1\n",
       "6604    2\n",
       "6605    1\n",
       "6606    1\n",
       "Name: Peer_Influence, Length: 6378, dtype: int64"
      ]
     },
     "execution_count": 36,
     "metadata": {},
     "output_type": "execute_result"
    }
   ],
   "source": [
    "df_cleaned['Peer_Influence']"
   ]
  },
  {
   "cell_type": "code",
   "execution_count": 38,
   "id": "dd86be44",
   "metadata": {},
   "outputs": [
    {
     "data": {
      "text/plain": [
       "array(['No', 'Yes'], dtype=object)"
      ]
     },
     "execution_count": 38,
     "metadata": {},
     "output_type": "execute_result"
    }
   ],
   "source": [
    "df_cleaned['Learning_Disabilities'].unique()"
   ]
  },
  {
   "cell_type": "code",
   "execution_count": 39,
   "id": "75366c27",
   "metadata": {},
   "outputs": [
    {
     "name": "stderr",
     "output_type": "stream",
     "text": [
      "C:\\Users\\leube\\AppData\\Local\\Temp\\ipykernel_3820\\652964834.py:1: SettingWithCopyWarning: \n",
      "A value is trying to be set on a copy of a slice from a DataFrame.\n",
      "Try using .loc[row_indexer,col_indexer] = value instead\n",
      "\n",
      "See the caveats in the documentation: https://pandas.pydata.org/pandas-docs/stable/user_guide/indexing.html#returning-a-view-versus-a-copy\n",
      "  df_cleaned['Learning_Disabilities'] = df_cleaned['Learning_Disabilities'].replace('No', 0).replace('Yes', 1)\n"
     ]
    }
   ],
   "source": [
    "df_cleaned['Learning_Disabilities'] = df_cleaned['Learning_Disabilities'].replace('No', 0).replace('Yes', 1)"
   ]
  },
  {
   "cell_type": "code",
   "execution_count": 40,
   "id": "478c1bd9",
   "metadata": {},
   "outputs": [
    {
     "data": {
      "text/plain": [
       "0       0\n",
       "1       0\n",
       "2       0\n",
       "3       0\n",
       "4       0\n",
       "       ..\n",
       "6602    0\n",
       "6603    0\n",
       "6604    0\n",
       "6605    0\n",
       "6606    0\n",
       "Name: Learning_Disabilities, Length: 6378, dtype: int64"
      ]
     },
     "execution_count": 40,
     "metadata": {},
     "output_type": "execute_result"
    }
   ],
   "source": [
    "df_cleaned['Learning_Disabilities']"
   ]
  },
  {
   "cell_type": "code",
   "execution_count": 42,
   "id": "0a902d46",
   "metadata": {},
   "outputs": [
    {
     "data": {
      "text/plain": [
       "array(['High School', 'College', 'Postgraduate'], dtype=object)"
      ]
     },
     "execution_count": 42,
     "metadata": {},
     "output_type": "execute_result"
    }
   ],
   "source": [
    "df_cleaned['Parental_Education_Level'].unique()"
   ]
  },
  {
   "cell_type": "code",
   "execution_count": 43,
   "id": "d306380d",
   "metadata": {},
   "outputs": [
    {
     "name": "stderr",
     "output_type": "stream",
     "text": [
      "C:\\Users\\leube\\AppData\\Local\\Temp\\ipykernel_3820\\1554310522.py:1: SettingWithCopyWarning: \n",
      "A value is trying to be set on a copy of a slice from a DataFrame.\n",
      "Try using .loc[row_indexer,col_indexer] = value instead\n",
      "\n",
      "See the caveats in the documentation: https://pandas.pydata.org/pandas-docs/stable/user_guide/indexing.html#returning-a-view-versus-a-copy\n",
      "  df_cleaned['Parental_Education_Level'] = df_cleaned['Parental_Education_Level'].replace('College', 1).replace('High School', 2).replace('Postgraduate', 3)\n"
     ]
    }
   ],
   "source": [
    "df_cleaned['Parental_Education_Level'] = df_cleaned['Parental_Education_Level'].replace('College', 1).replace('High School', 2).replace('Postgraduate', 3)"
   ]
  },
  {
   "cell_type": "code",
   "execution_count": 44,
   "id": "d4b0b8d2",
   "metadata": {},
   "outputs": [
    {
     "data": {
      "text/plain": [
       "0       2\n",
       "1       1\n",
       "2       3\n",
       "3       2\n",
       "4       1\n",
       "       ..\n",
       "6602    2\n",
       "6603    2\n",
       "6604    3\n",
       "6605    2\n",
       "6606    3\n",
       "Name: Parental_Education_Level, Length: 6378, dtype: int64"
      ]
     },
     "execution_count": 44,
     "metadata": {},
     "output_type": "execute_result"
    }
   ],
   "source": [
    "df_cleaned['Parental_Education_Level']"
   ]
  },
  {
   "cell_type": "code",
   "execution_count": 46,
   "id": "259df5ee",
   "metadata": {},
   "outputs": [
    {
     "data": {
      "text/plain": [
       "array(['Near', 'Moderate', 'Far'], dtype=object)"
      ]
     },
     "execution_count": 46,
     "metadata": {},
     "output_type": "execute_result"
    }
   ],
   "source": [
    "df_cleaned['Distance_from_Home'].unique()"
   ]
  },
  {
   "cell_type": "code",
   "execution_count": 47,
   "id": "66a74fef",
   "metadata": {},
   "outputs": [
    {
     "name": "stderr",
     "output_type": "stream",
     "text": [
      "C:\\Users\\leube\\AppData\\Local\\Temp\\ipykernel_3820\\400226966.py:1: SettingWithCopyWarning: \n",
      "A value is trying to be set on a copy of a slice from a DataFrame.\n",
      "Try using .loc[row_indexer,col_indexer] = value instead\n",
      "\n",
      "See the caveats in the documentation: https://pandas.pydata.org/pandas-docs/stable/user_guide/indexing.html#returning-a-view-versus-a-copy\n",
      "  df_cleaned['Distance_from_Home'] = df_cleaned['Distance_from_Home'].replace('Near', 1).replace('Moderate', 2).replace('Far', 3)\n"
     ]
    }
   ],
   "source": [
    "df_cleaned['Distance_from_Home'] = df_cleaned['Distance_from_Home'].replace('Near', 1).replace('Moderate', 2).replace('Far', 3)"
   ]
  },
  {
   "cell_type": "code",
   "execution_count": 48,
   "id": "fc9520fd",
   "metadata": {},
   "outputs": [
    {
     "data": {
      "text/plain": [
       "0       1\n",
       "1       2\n",
       "2       1\n",
       "3       2\n",
       "4       1\n",
       "       ..\n",
       "6602    1\n",
       "6603    1\n",
       "6604    1\n",
       "6605    3\n",
       "6606    1\n",
       "Name: Distance_from_Home, Length: 6378, dtype: int64"
      ]
     },
     "execution_count": 48,
     "metadata": {},
     "output_type": "execute_result"
    }
   ],
   "source": [
    "df_cleaned['Distance_from_Home']"
   ]
  },
  {
   "cell_type": "code",
   "execution_count": 49,
   "id": "c3ec4316",
   "metadata": {},
   "outputs": [
    {
     "data": {
      "text/plain": [
       "array(['Male', 'Female'], dtype=object)"
      ]
     },
     "execution_count": 49,
     "metadata": {},
     "output_type": "execute_result"
    }
   ],
   "source": [
    "df_cleaned['Gender'].unique()"
   ]
  },
  {
   "cell_type": "code",
   "execution_count": 50,
   "id": "bed55db1",
   "metadata": {},
   "outputs": [
    {
     "name": "stderr",
     "output_type": "stream",
     "text": [
      "C:\\Users\\leube\\AppData\\Local\\Temp\\ipykernel_3820\\3094695113.py:1: SettingWithCopyWarning: \n",
      "A value is trying to be set on a copy of a slice from a DataFrame.\n",
      "Try using .loc[row_indexer,col_indexer] = value instead\n",
      "\n",
      "See the caveats in the documentation: https://pandas.pydata.org/pandas-docs/stable/user_guide/indexing.html#returning-a-view-versus-a-copy\n",
      "  df_cleaned['Gender'] = df_cleaned['Gender'].replace('Female', 0).replace('Male', 1)\n"
     ]
    }
   ],
   "source": [
    "df_cleaned['Gender'] = df_cleaned['Gender'].replace('Female', 0).replace('Male', 1)"
   ]
  },
  {
   "cell_type": "code",
   "execution_count": 60,
   "id": "4653084f",
   "metadata": {},
   "outputs": [],
   "source": [
    "binary_columns = ['Extracurricular_Activities', 'Internet_Access', 'School_Type', 'Learning_Disabilities', 'Gender']\n",
    "multi_class_columns = ['Parental_Involvement', 'Access_to_Resources', 'Motivation_Level', 'Family_Income', 'Teacher_Quality', 'Peer_Influence', 'Parental_Education_Level', 'Distance_from_Home']"
   ]
  },
  {
   "cell_type": "code",
   "execution_count": 58,
   "id": "5666dd56",
   "metadata": {},
   "outputs": [
    {
     "name": "stdout",
     "output_type": "stream",
     "text": [
      "Extracurricular_Activities: t-stat = -5.0455837895021345, p-value = 4.6465544032214617e-07\n",
      "Extracurricular_Activities: p-values = 4.6465544032214617e-07 (p-value is less than 0.05)\n",
      "Internet_Access: t-stat = -4.08756319841647, p-value = 4.4128283860873265e-05\n",
      "Internet_Access: p-values = 4.4128283860873265e-05 (p-value is less than 0.05)\n",
      "School_Type: t-stat = -0.8678688768139758, p-value = 0.3854987810270891\n",
      "School_Type: p-values = 0.3854987810270891 (p-value is greater than 0.05)\n",
      "Learning_Disabilities: t-stat = 6.724032864609853, p-value = 1.9211255816166116e-11\n",
      "Learning_Disabilities: p-values = 1.9211255816166116e-11 (p-value is less than 0.05)\n",
      "Gender: t-stat = 0.39386280795717277, p-value = 0.6936955012015205\n",
      "Gender: p-values = 0.6936955012015205 (p-value is greater than 0.05)\n"
     ]
    }
   ],
   "source": [
    "for column in binary_columns:\n",
    "    group1 = df_cleaned[df_cleaned[column] == 0]['Exam_Score']\n",
    "    group2 = df_cleaned[df_cleaned[column] == 1]['Exam_Score']\n",
    "    t_stat, p_val = ttest_ind(group1, group2)\n",
    "    print(f'{column}: t-stat = {t_stat}, p-value = {p_val}')\n",
    "    significance = \"less than 0.05\" if p_val < 0.05 else \"greater than 0.05\"\n",
    "    print(f\"{column}: p-values = {p_val} (p-value is {significance})\")"
   ]
  },
  {
   "cell_type": "code",
   "execution_count": 59,
   "id": "3e4caba6",
   "metadata": {},
   "outputs": [],
   "source": [
    "#Statistically significant: \n",
    "#   Extracurricular activities\n",
    "#   Internet acess\n",
    "#   learning disabilities\n",
    "#   Parental involvement\n",
    "#   Access to recources\n",
    "#   Motivation level\n",
    "#   Family income\n",
    "#   Teacher Quality\n",
    "#   Peer influence\n",
    "#   Parental education level\n",
    "#   Distance from home\n",
    "#Not significant:\n",
    "#   School type\n",
    "#   gender"
   ]
  },
  {
   "cell_type": "code",
   "execution_count": 62,
   "id": "6ca6c77a",
   "metadata": {},
   "outputs": [
    {
     "name": "stdout",
     "output_type": "stream",
     "text": [
      "Parental_Involvement: F-stat = 80.46222821867522, p-value = 3.086484723306131e-35\n",
      "Parental_Involvement: p-values = 3.086484723306131e-35 (p-value is less than 0.05)\n",
      "Access_to_Resources: F-stat = 92.41635984339177, p-value = 2.7221702287329308e-40\n",
      "Access_to_Resources: p-values = 2.7221702287329308e-40 (p-value is less than 0.05)\n",
      "Motivation_Level: F-stat = 25.535515172788962, p-value = 9.000204034394693e-12\n",
      "Motivation_Level: p-values = 9.000204034394693e-12 (p-value is less than 0.05)\n",
      "Family_Income: F-stat = 28.782492235095216, p-value = 3.59767227814745e-13\n",
      "Family_Income: p-values = 3.59767227814745e-13 (p-value is less than 0.05)\n",
      "Teacher_Quality: F-stat = 18.597490428613316, p-value = 8.844704258489237e-09\n",
      "Teacher_Quality: p-values = 8.844704258489237e-09 (p-value is less than 0.05)\n",
      "Peer_Influence: F-stat = 32.18033265754196, p-value = 1.2426130744876118e-14\n",
      "Peer_Influence: p-values = 1.2426130744876118e-14 (p-value is less than 0.05)\n",
      "Parental_Education_Level: F-stat = 35.94710753828243, p-value = 2.9904980898726883e-16\n",
      "Parental_Education_Level: p-values = 2.9904980898726883e-16 (p-value is less than 0.05)\n",
      "Distance_from_Home: F-stat = 24.936704481512194, p-value = 1.6303083634793744e-11\n",
      "Distance_from_Home: p-values = 1.6303083634793744e-11 (p-value is less than 0.05)\n"
     ]
    }
   ],
   "source": [
    "for column in multi_class_columns:\n",
    "    groups = [df_cleaned[df_cleaned[column] == values]['Exam_Score'] for values in df_cleaned[column].unique()]\n",
    "    f_stat, p_val = f_oneway(*groups)\n",
    "    print(f'{column}: F-stat = {f_stat}, p-value = {p_val}')\n",
    "    significance = \"less than 0.05\" if p_val < 0.05 else \"greater than 0.05\"\n",
    "    print(f\"{column}: p-values = {p_val} (p-value is {significance})\")"
   ]
  }
 ],
 "metadata": {
  "kernelspec": {
   "display_name": "venv_final",
   "language": "python",
   "name": "venv_final"
  },
  "language_info": {
   "codemirror_mode": {
    "name": "ipython",
    "version": 3
   },
   "file_extension": ".py",
   "mimetype": "text/x-python",
   "name": "python",
   "nbconvert_exporter": "python",
   "pygments_lexer": "ipython3",
   "version": "3.11.7"
  }
 },
 "nbformat": 4,
 "nbformat_minor": 5
}
